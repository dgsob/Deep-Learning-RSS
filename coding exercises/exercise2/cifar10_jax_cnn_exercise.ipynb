{
  "nbformat": 4,
  "nbformat_minor": 0,
  "metadata": {
    "colab": {
      "provenance": [],
      "gpuType": "T4",
      "authorship_tag": "ABX9TyNUFhDesMlhJF4J9N1b06Cf",
      "include_colab_link": true
    },
    "kernelspec": {
      "name": "python3",
      "display_name": "Python 3"
    },
    "language_info": {
      "name": "python"
    },
    "accelerator": "GPU"
  },
  "cells": [
    {
      "cell_type": "markdown",
      "metadata": {
        "id": "view-in-github",
        "colab_type": "text"
      },
      "source": [
        "<a href=\"https://colab.research.google.com/github/dgsob/Deep-Learning-RSS/blob/main/coding%20exercises/exercise2/cifar10_jax_cnn_exercise.ipynb\" target=\"_parent\"><img src=\"https://colab.research.google.com/assets/colab-badge.svg\" alt=\"Open In Colab\"/></a>"
      ]
    },
    {
      "cell_type": "markdown",
      "source": [
        "## Imports"
      ],
      "metadata": {
        "id": "OzM-zTwwHyyr"
      }
    },
    {
      "cell_type": "code",
      "source": [
        "!pip install equinox"
      ],
      "metadata": {
        "colab": {
          "base_uri": "https://localhost:8080/"
        },
        "id": "l-bGgN-nH7e8",
        "outputId": "84c80f61-a5b5-421b-9f84-f91e71de618f"
      },
      "execution_count": 1,
      "outputs": [
        {
          "output_type": "stream",
          "name": "stdout",
          "text": [
            "Requirement already satisfied: equinox in /usr/local/lib/python3.11/dist-packages (0.12.2)\n",
            "Requirement already satisfied: jax>=0.4.38 in /usr/local/lib/python3.11/dist-packages (from equinox) (0.5.2)\n",
            "Requirement already satisfied: jaxtyping>=0.2.20 in /usr/local/lib/python3.11/dist-packages (from equinox) (0.3.2)\n",
            "Requirement already satisfied: typing-extensions>=4.5.0 in /usr/local/lib/python3.11/dist-packages (from equinox) (4.14.0)\n",
            "Requirement already satisfied: wadler-lindig>=0.1.0 in /usr/local/lib/python3.11/dist-packages (from equinox) (0.1.6)\n",
            "Requirement already satisfied: jaxlib<=0.5.2,>=0.5.1 in /usr/local/lib/python3.11/dist-packages (from jax>=0.4.38->equinox) (0.5.1)\n",
            "Requirement already satisfied: ml_dtypes>=0.4.0 in /usr/local/lib/python3.11/dist-packages (from jax>=0.4.38->equinox) (0.4.1)\n",
            "Requirement already satisfied: numpy>=1.25 in /usr/local/lib/python3.11/dist-packages (from jax>=0.4.38->equinox) (2.0.2)\n",
            "Requirement already satisfied: opt_einsum in /usr/local/lib/python3.11/dist-packages (from jax>=0.4.38->equinox) (3.4.0)\n",
            "Requirement already satisfied: scipy>=1.11.1 in /usr/local/lib/python3.11/dist-packages (from jax>=0.4.38->equinox) (1.15.3)\n"
          ]
        }
      ]
    },
    {
      "cell_type": "code",
      "execution_count": 2,
      "metadata": {
        "id": "u8hselpYEKsV"
      },
      "outputs": [],
      "source": [
        "import torch  # https://pytorch.org\n",
        "import torchvision  # https://pytorch.org"
      ]
    },
    {
      "cell_type": "code",
      "source": [
        "import equinox as eqx\n",
        "import jax\n",
        "import jax.numpy as jnp\n",
        "import optax  # https://github.com/deepmind/optax\n",
        "from jaxtyping import Array, Float, Int, PyTree  # https://github.com/google/jaxtyping"
      ],
      "metadata": {
        "id": "rnu_AJp_H1wF"
      },
      "execution_count": 3,
      "outputs": []
    },
    {
      "cell_type": "code",
      "source": [
        "import matplotlib.pyplot as plt"
      ],
      "metadata": {
        "id": "WQYTTbqVJdc4"
      },
      "execution_count": 4,
      "outputs": []
    },
    {
      "cell_type": "markdown",
      "source": [
        "## Hyperparameters"
      ],
      "metadata": {
        "id": "CaB31XBeIJmL"
      }
    },
    {
      "cell_type": "code",
      "source": [
        "BATCH_SIZE = 32\n",
        "LEARNING_RATE = 1e-3\n",
        "STEPS = 18000\n",
        "PRINT_EVERY = 3000\n",
        "SEED = 77\n",
        "\n",
        "key = jax.random.PRNGKey(SEED)"
      ],
      "metadata": {
        "id": "c0j_pCScHuwN"
      },
      "execution_count": 5,
      "outputs": []
    },
    {
      "cell_type": "markdown",
      "source": [
        "## 1. Download and preprocess the data"
      ],
      "metadata": {
        "id": "Ze80oEDtEQ7l"
      }
    },
    {
      "cell_type": "code",
      "source": [
        "# Define potential transformations\n",
        "normalise_data = torchvision.transforms.Compose(\n",
        "    [\n",
        "        torchvision.transforms.ToTensor(),  # automatically normalizes pixel values to be between 0 and 1\n",
        "        torchvision.transforms.Normalize((0.5, 0.5, 0.5), (0.5, 0.5, 0.5)),  # changes values to [-1, 1]\n",
        "    ]\n",
        ")\n",
        "# Download and split the dataset into train, (val), test\n",
        "train_dataset = torchvision.datasets.CIFAR10(\n",
        "    \"CIFAR10\",\n",
        "    train=True,\n",
        "    download=True,\n",
        "    transform=normalise_data,\n",
        ")\n",
        "test_dataset = torchvision.datasets.CIFAR10(\n",
        "    \"CIFAR10\",\n",
        "    train=False,\n",
        "    download=True,\n",
        "    transform=normalise_data,\n",
        ")"
      ],
      "metadata": {
        "id": "aUqYfFAIGmPe"
      },
      "execution_count": 6,
      "outputs": []
    },
    {
      "cell_type": "code",
      "source": [
        "# Define the data loaders\n",
        "key, subkey = jax.random.split(key, 2)\n",
        "generator = torch.Generator().manual_seed(int(subkey[0]))\n",
        "\n",
        "train_dataset_loader = torch.utils.data.DataLoader(\n",
        "    train_dataset, batch_size=BATCH_SIZE, shuffle=True, generator=generator\n",
        ")\n",
        "test_dataset_loader = torch.utils.data.DataLoader(\n",
        "    test_dataset, batch_size=BATCH_SIZE, shuffle=True, generator=generator\n",
        ")"
      ],
      "metadata": {
        "id": "hhH25EekHZh3"
      },
      "execution_count": 7,
      "outputs": []
    },
    {
      "cell_type": "code",
      "source": [
        "def infinite_trainloader():\n",
        "    while True:\n",
        "        yield from train_dataset_loader"
      ],
      "metadata": {
        "id": "-ndm3t4ynrsd"
      },
      "execution_count": null,
      "outputs": []
    },
    {
      "cell_type": "markdown",
      "source": [
        "## 2. Verify the data and adjust preprocessing if needed"
      ],
      "metadata": {
        "id": "deumiDsPmzlt"
      }
    },
    {
      "cell_type": "code",
      "source": [
        "# Take a batch of data for inspection\n",
        "dummy_x, dummy_y = next(iter(train_dataset_loader))\n",
        "dummy_x = dummy_x.numpy()\n",
        "dummy_y = dummy_y.numpy()\n",
        "print(f\"Features shape: {dummy_x.shape}\")\n",
        "print(f\"Targets shape: {dummy_y.shape}\")\n",
        "print(f\"Minimum pixel value in features: {dummy_x.min()}\")\n",
        "print(f\"Maximum pixel value in features: {dummy_x.max()}\")\n",
        "print(f\"Target values: {dummy_y}\")"
      ],
      "metadata": {
        "colab": {
          "base_uri": "https://localhost:8080/"
        },
        "id": "xlx5gTT0Il6K",
        "outputId": "070036a0-9558-4c53-9aeb-d5a609ef2486"
      },
      "execution_count": 8,
      "outputs": [
        {
          "output_type": "stream",
          "name": "stdout",
          "text": [
            "Features shape: (32, 3, 32, 32)\n",
            "Targets shape: (32,)\n",
            "Minimum pixel value in features: -1.0\n",
            "Maximum pixel value in features: 1.0\n",
            "Target values: [1 9 0 6 4 8 9 6 2 2 8 1 8 0 2 9 5 8 7 1 3 1 7 2 3 3 3 2 0 5 1 1]\n"
          ]
        }
      ]
    },
    {
      "cell_type": "code",
      "source": [
        "class_names = ['airplane', 'automobile', 'bird', 'cat', 'deer',\n",
        "               'dog', 'frog', 'horse', 'ship', 'truck']\n",
        "\n",
        "images = dummy_x[:25].transpose(0, 2, 3, 1)\n",
        "labels = dummy_y[:25]\n",
        "plt.figure(figsize=(10, 10))\n",
        "for i in range(25):\n",
        "    plt.subplot(5, 5, i + 1)\n",
        "    plt.xticks([])\n",
        "    plt.yticks([])\n",
        "    plt.grid(False)\n",
        "    plt.imshow(images[i])\n",
        "    plt.xlabel(class_names[labels[i]])\n",
        "plt.show()"
      ],
      "metadata": {
        "colab": {
          "base_uri": "https://localhost:8080/",
          "height": 1000
        },
        "id": "WX1k5WYKJTba",
        "outputId": "e1989541-9706-4fbc-abbd-d9e8b0657ff2"
      },
      "execution_count": 9,
      "outputs": [
        {
          "output_type": "stream",
          "name": "stderr",
          "text": [
            "WARNING:matplotlib.image:Clipping input data to the valid range for imshow with RGB data ([0..1] for floats or [0..255] for integers). Got range [-0.94509804..0.92941177].\n",
            "WARNING:matplotlib.image:Clipping input data to the valid range for imshow with RGB data ([0..1] for floats or [0..255] for integers). Got range [-0.8509804..0.9764706].\n",
            "WARNING:matplotlib.image:Clipping input data to the valid range for imshow with RGB data ([0..1] for floats or [0..255] for integers). Got range [-1.0..0.84313726].\n",
            "WARNING:matplotlib.image:Clipping input data to the valid range for imshow with RGB data ([0..1] for floats or [0..255] for integers). Got range [-0.9843137..0.7411765].\n",
            "WARNING:matplotlib.image:Clipping input data to the valid range for imshow with RGB data ([0..1] for floats or [0..255] for integers). Got range [-0.85882354..0.8666667].\n",
            "WARNING:matplotlib.image:Clipping input data to the valid range for imshow with RGB data ([0..1] for floats or [0..255] for integers). Got range [-0.8666667..0.2941177].\n",
            "WARNING:matplotlib.image:Clipping input data to the valid range for imshow with RGB data ([0..1] for floats or [0..255] for integers). Got range [-0.92156863..0.92156863].\n",
            "WARNING:matplotlib.image:Clipping input data to the valid range for imshow with RGB data ([0..1] for floats or [0..255] for integers). Got range [-1.0..0.8039216].\n",
            "WARNING:matplotlib.image:Clipping input data to the valid range for imshow with RGB data ([0..1] for floats or [0..255] for integers). Got range [-0.5921569..0.7411765].\n",
            "WARNING:matplotlib.image:Clipping input data to the valid range for imshow with RGB data ([0..1] for floats or [0..255] for integers). Got range [-0.99215686..0.7882353].\n",
            "WARNING:matplotlib.image:Clipping input data to the valid range for imshow with RGB data ([0..1] for floats or [0..255] for integers). Got range [-1.0..0.8745098].\n",
            "WARNING:matplotlib.image:Clipping input data to the valid range for imshow with RGB data ([0..1] for floats or [0..255] for integers). Got range [-0.9843137..1.0].\n",
            "WARNING:matplotlib.image:Clipping input data to the valid range for imshow with RGB data ([0..1] for floats or [0..255] for integers). Got range [-0.75686276..0.7411765].\n",
            "WARNING:matplotlib.image:Clipping input data to the valid range for imshow with RGB data ([0..1] for floats or [0..255] for integers). Got range [-0.8901961..1.0].\n",
            "WARNING:matplotlib.image:Clipping input data to the valid range for imshow with RGB data ([0..1] for floats or [0..255] for integers). Got range [-1.0..0.9843137].\n",
            "WARNING:matplotlib.image:Clipping input data to the valid range for imshow with RGB data ([0..1] for floats or [0..255] for integers). Got range [-0.9764706..0.77254903].\n",
            "WARNING:matplotlib.image:Clipping input data to the valid range for imshow with RGB data ([0..1] for floats or [0..255] for integers). Got range [-0.9137255..1.0].\n",
            "WARNING:matplotlib.image:Clipping input data to the valid range for imshow with RGB data ([0..1] for floats or [0..255] for integers). Got range [-0.70980394..0.8509804].\n",
            "WARNING:matplotlib.image:Clipping input data to the valid range for imshow with RGB data ([0..1] for floats or [0..255] for integers). Got range [-0.9529412..1.0].\n",
            "WARNING:matplotlib.image:Clipping input data to the valid range for imshow with RGB data ([0..1] for floats or [0..255] for integers). Got range [-0.9607843..0.8039216].\n",
            "WARNING:matplotlib.image:Clipping input data to the valid range for imshow with RGB data ([0..1] for floats or [0..255] for integers). Got range [-0.96862745..0.9764706].\n",
            "WARNING:matplotlib.image:Clipping input data to the valid range for imshow with RGB data ([0..1] for floats or [0..255] for integers). Got range [-1.0..0.99215686].\n",
            "WARNING:matplotlib.image:Clipping input data to the valid range for imshow with RGB data ([0..1] for floats or [0..255] for integers). Got range [-0.9764706..0.96862745].\n",
            "WARNING:matplotlib.image:Clipping input data to the valid range for imshow with RGB data ([0..1] for floats or [0..255] for integers). Got range [-1.0..1.0].\n",
            "WARNING:matplotlib.image:Clipping input data to the valid range for imshow with RGB data ([0..1] for floats or [0..255] for integers). Got range [-0.8980392..0.8901961].\n"
          ]
        },
        {
          "output_type": "display_data",
          "data": {
            "text/plain": [
              "<Figure size 1000x1000 with 25 Axes>"
            ],
            "image/png": "[encoded data removed]"
          },
          "metadata": {}
        }
      ]
    },
    {
      "cell_type": "markdown",
      "source": [
        "## 2. Define the Model"
      ],
      "metadata": {
        "id": "4PVt6XJxP0LS"
      }
    },
    {
      "cell_type": "code",
      "source": [
        "class CNN(eqx.Module):\n",
        "    layers: list\n",
        "\n",
        "    def __init__(self, key):\n",
        "        key1, key2, key3, key4, key5 = jax.random.split(key, 5)\n",
        "        activation = jax.nn.relu\n",
        "        self.layers = [\n",
        "            eqx.nn.Conv2d(3, 32, kernel_size=3, key=key1), # (32, 32, 3) -> (30, 30, 32)\n",
        "            eqx.nn.MaxPool2d(kernel_size=2, stride=2),  # (30, 30, 32) -> (15, 15, 32)\n",
        "            activation,\n",
        "\n",
        "            eqx.nn.Conv2d(32, 64, kernel_size=3, key=key2), # (15, 15, 32) -> (13, 13, 64)\n",
        "            eqx.nn.MaxPool2d(kernel_size=2, stride=2),  # (13, 13, 64) -> (6, 6, 64)\n",
        "            activation,\n",
        "\n",
        "            eqx.nn.Conv2d(64, 64, kernel_size=3, key=key3), # (6, 6, 64) -> (4, 4, 64)\n",
        "            activation,\n",
        "\n",
        "            lambda x: jnp.ravel(x),  # (4, 4, 64) -> (, 1024)\n",
        "\n",
        "            eqx.nn.Linear(1024, 64, key=key4),  # (, 1024) -> (, 64)\n",
        "\n",
        "            eqx.nn.Linear(64, 10, key=key5)  # (, 64) -> (, 10)\n",
        "        ]\n",
        "\n",
        "    def __call__(self, x):\n",
        "        for layer in self.layers:\n",
        "            x = layer(x)\n",
        "        return x"
      ],
      "metadata": {
        "id": "u1OLWGTwKjBX"
      },
      "execution_count": 10,
      "outputs": []
    },
    {
      "cell_type": "code",
      "source": [
        "key, subkey = jax.random.split(key, 2)\n",
        "model = CNN(subkey)"
      ],
      "metadata": {
        "id": "GOTDnpxMi9Ll"
      },
      "execution_count": 11,
      "outputs": []
    },
    {
      "cell_type": "code",
      "source": [
        "print(model)"
      ],
      "metadata": {
        "colab": {
          "base_uri": "https://localhost:8080/"
        },
        "id": "08m_bjv4jJxn",
        "outputId": "1bda6dee-709e-4e4c-8a53-d98921f34934"
      },
      "execution_count": 12,
      "outputs": [
        {
          "output_type": "stream",
          "name": "stdout",
          "text": [
            "CNN(\n",
            "  layers=[\n",
            "    Conv2d(\n",
            "      num_spatial_dims=2,\n",
            "      weight=f32[32,3,3,3],\n",
            "      bias=f32[32,1,1],\n",
            "      in_channels=3,\n",
            "      out_channels=32,\n",
            "      kernel_size=(3, 3),\n",
            "      stride=(1, 1),\n",
            "      padding=((0, 0), (0, 0)),\n",
            "      dilation=(1, 1),\n",
            "      groups=1,\n",
            "      use_bias=True,\n",
            "      padding_mode='ZEROS'\n",
            "    ),\n",
            "    MaxPool2d(\n",
            "      init=-inf,\n",
            "      operation=<function max>,\n",
            "      num_spatial_dims=2,\n",
            "      kernel_size=(2, 2),\n",
            "      stride=(2, 2),\n",
            "      padding=((0, 0), (0, 0)),\n",
            "      use_ceil=False\n",
            "    ),\n",
            "    <PjitFunction of <function relu at 0x7d0297036660>>,\n",
            "    Conv2d(\n",
            "      num_spatial_dims=2,\n",
            "      weight=f32[64,32,3,3],\n",
            "      bias=f32[64,1,1],\n",
            "      in_channels=32,\n",
            "      out_channels=64,\n",
            "      kernel_size=(3, 3),\n",
            "      stride=(1, 1),\n",
            "      padding=((0, 0), (0, 0)),\n",
            "      dilation=(1, 1),\n",
            "      groups=1,\n",
            "      use_bias=True,\n",
            "      padding_mode='ZEROS'\n",
            "    ),\n",
            "    MaxPool2d(\n",
            "      init=-inf,\n",
            "      operation=<function max>,\n",
            "      num_spatial_dims=2,\n",
            "      kernel_size=(2, 2),\n",
            "      stride=(2, 2),\n",
            "      padding=((0, 0), (0, 0)),\n",
            "      use_ceil=False\n",
            "    ),\n",
            "    <PjitFunction of <function relu at 0x7d0297036660>>,\n",
            "    Conv2d(\n",
            "      num_spatial_dims=2,\n",
            "      weight=f32[64,64,3,3],\n",
            "      bias=f32[64,1,1],\n",
            "      in_channels=64,\n",
            "      out_channels=64,\n",
            "      kernel_size=(3, 3),\n",
            "      stride=(1, 1),\n",
            "      padding=((0, 0), (0, 0)),\n",
            "      dilation=(1, 1),\n",
            "      groups=1,\n",
            "      use_bias=True,\n",
            "      padding_mode='ZEROS'\n",
            "    ),\n",
            "    <PjitFunction of <function relu at 0x7d0297036660>>,\n",
            "    <function CNN.__init__.<locals>.<lambda>>,\n",
            "    Linear(\n",
            "      weight=f32[64,1024],\n",
            "      bias=f32[64],\n",
            "      in_features=1024,\n",
            "      out_features=64,\n",
            "      use_bias=True\n",
            "    ),\n",
            "    Linear(\n",
            "      weight=f32[10,64],\n",
            "      bias=f32[10],\n",
            "      in_features=64,\n",
            "      out_features=10,\n",
            "      use_bias=True\n",
            "    )\n",
            "  ]\n",
            ")\n"
          ]
        }
      ]
    },
    {
      "cell_type": "markdown",
      "source": [
        "## 3. Define Loss function and Optimiser"
      ],
      "metadata": {
        "id": "o4en8HdMk_KX"
      }
    },
    {
      "cell_type": "code",
      "source": [
        "@eqx.filter_jit\n",
        "def loss(\n",
        "    model: CNN,\n",
        "    x: Float[Array, \"batch height width channels\"],\n",
        "    y: Int[Array, \"batch\"]\n",
        ") -> Float[Array, \"\"]:\n",
        "    y_pred = jax.vmap(model)(x)\n",
        "    return optax.softmax_cross_entropy_with_integer_labels(y_pred, y).mean()"
      ],
      "metadata": {
        "id": "MXbypCK6jq--"
      },
      "execution_count": 13,
      "outputs": []
    },
    {
      "cell_type": "code",
      "source": [
        "optim = optax.adam(LEARNING_RATE)"
      ],
      "metadata": {
        "id": "F_42EyRbpMZX"
      },
      "execution_count": 14,
      "outputs": []
    },
    {
      "cell_type": "code",
      "source": [
        "# Example loss\n",
        "loss_value = loss(model, dummy_x, dummy_y)\n",
        "print(loss_value)  # scalar loss"
      ],
      "metadata": {
        "colab": {
          "base_uri": "https://localhost:8080/"
        },
        "id": "IwQZ0tow9arf",
        "outputId": "93cd4c79-f580-42cc-a7f8-7a523cc2bf05"
      },
      "execution_count": 15,
      "outputs": [
        {
          "output_type": "stream",
          "name": "stdout",
          "text": [
            "2.2972016\n"
          ]
        }
      ]
    },
    {
      "cell_type": "code",
      "source": [
        "# Example inference\n",
        "output = jax.vmap(model)(dummy_x)\n",
        "print(output.shape)  # batch of predictions"
      ],
      "metadata": {
        "colab": {
          "base_uri": "https://localhost:8080/"
        },
        "id": "Npk63Mqe9WF1",
        "outputId": "c1369dec-fe39-4ba7-c45f-f4a019ac3bda"
      },
      "execution_count": 16,
      "outputs": [
        {
          "output_type": "stream",
          "name": "stdout",
          "text": [
            "(32, 10)\n"
          ]
        }
      ]
    },
    {
      "cell_type": "markdown",
      "source": [
        "## 4. Define a function for Evaluation"
      ],
      "metadata": {
        "id": "ape3SYErteBA"
      }
    },
    {
      "cell_type": "code",
      "source": [
        "@eqx.filter_jit\n",
        "def compute_accuracy(\n",
        "    model: CNN, x: Float[Array, \"batch height width channels\"], y: Int[Array, \" batch\"]\n",
        ") -> Float[Array, \"\"]:\n",
        "    pred_y = jax.vmap(model)(x)\n",
        "    pred_y = jnp.argmax(pred_y, axis=1)\n",
        "    return jnp.mean(y == pred_y)"
      ],
      "metadata": {
        "id": "8RlBNCyrtiEk"
      },
      "execution_count": 17,
      "outputs": []
    },
    {
      "cell_type": "code",
      "source": [
        "def evaluate(model: CNN, testloader: torch.utils.data.DataLoader):\n",
        "    avg_loss = 0\n",
        "    avg_acc = 0\n",
        "    for x, y in testloader:\n",
        "        x = x.numpy()\n",
        "        y = y.numpy()\n",
        "        # Note that all the JAX operations happen inside `loss` and `compute_accuracy`,\n",
        "        # and both have JIT wrappers, so this is fast.\n",
        "        avg_loss += loss(model, x, y)\n",
        "        avg_acc += compute_accuracy(model, x, y)\n",
        "    return avg_loss / len(testloader), avg_acc / len(testloader)"
      ],
      "metadata": {
        "id": "tVGqIXaItkNV"
      },
      "execution_count": 18,
      "outputs": []
    },
    {
      "cell_type": "code",
      "source": [
        "# evaluate(model, test_dataset_loader)"
      ],
      "metadata": {
        "id": "QJ33ITyHK8g-"
      },
      "execution_count": 19,
      "outputs": []
    },
    {
      "cell_type": "markdown",
      "source": [
        "## 5. Define JIT-ed training step"
      ],
      "metadata": {
        "id": "svr1eRDNprGO"
      }
    },
    {
      "cell_type": "code",
      "source": [
        "@eqx.filter_jit\n",
        "def make_step(\n",
        "    model: CNN,\n",
        "    params: PyTree[Array],\n",
        "    x: Float[Array, \"batch height width channels\"],\n",
        "    y: Int[Array, \"batch\"]\n",
        "):\n",
        "    loss_value, grads = eqx.filter_value_and_grad(loss)(model, x, y)\n",
        "    updates, params = optim.update(grads, params, eqx.filter(model, eqx.is_array))\n",
        "    model = eqx.apply_updates(model, updates)\n",
        "\n",
        "    return model, params, loss_value"
      ],
      "metadata": {
        "id": "WNpqlbqHOq3N"
      },
      "execution_count": 20,
      "outputs": []
    },
    {
      "cell_type": "markdown",
      "source": [
        "## 6. Define the trainng loop"
      ],
      "metadata": {
        "id": "J76Ockx1ju5D"
      }
    },
    {
      "cell_type": "code",
      "source": [
        "print(f\"Training for {STEPS / (len(train_dataset)/BATCH_SIZE)} epochs.\")"
      ],
      "metadata": {
        "colab": {
          "base_uri": "https://localhost:8080/"
        },
        "id": "wts8SQdjZ-Ic",
        "outputId": "c03b39a0-0f67-400e-f2ae-43b393ab9847"
      },
      "execution_count": 22,
      "outputs": [
        {
          "output_type": "stream",
          "name": "stdout",
          "text": [
            "Training for 11.52 epochs.\n"
          ]
        }
      ]
    },
    {
      "cell_type": "code",
      "source": [
        "def training_loop(\n",
        "    model: CNN,\n",
        "    train_dataset_loader: torch.utils.data.DataLoader,\n",
        "    test_dataset_loader: torch.utils.data.DataLoader,\n",
        "    optim: optax.GradientTransformation,\n",
        "    steps: int,\n",
        "    print_every: int\n",
        ") -> CNN:\n",
        "\n",
        "    params = optim.init(eqx.filter(model, eqx.is_array))\n",
        "\n",
        "    for step, (x, y) in zip(range(steps), infinite_trainloader()):\n",
        "        x = x.numpy()\n",
        "        y = y.numpy()\n",
        "\n",
        "        # Train the params and update the model's state\n",
        "        model, params, train_loss = make_step(model, params, x, y)\n",
        "\n",
        "        # Print some feadback\n",
        "        if (step % print_every) == 0 or (step == steps-1):\n",
        "            test_loss, test_accuracy = evaluate(model, test_dataset_loader)\n",
        "            print(\n",
        "                f\"{step=}, train_loss={train_loss.item()}, \"\n",
        "                f\"test_loss={test_loss.item()}, test_accuracy={test_accuracy.item()}\"\n",
        "            )\n",
        "\n",
        "    return model"
      ],
      "metadata": {
        "id": "IXVt8NI4pkPb"
      },
      "execution_count": 23,
      "outputs": []
    },
    {
      "cell_type": "code",
      "source": [
        "model = training_loop(model,\n",
        "                      train_dataset_loader,\n",
        "                      test_dataset_loader,\n",
        "                      optim,\n",
        "                      STEPS,\n",
        "                      PRINT_EVERY)"
      ],
      "metadata": {
        "colab": {
          "base_uri": "https://localhost:8080/"
        },
        "id": "ByNsy2VCsvR4",
        "outputId": "feb7a680-6abe-456f-c7ca-6a9eab4d2835"
      },
      "execution_count": 24,
      "outputs": [
        {
          "output_type": "stream",
          "name": "stdout",
          "text": [
            "step=0, train_loss=2.3080949783325195, test_loss=2.3006598949432373, test_accuracy=0.10123801976442337\n",
            "step=3000, train_loss=0.9112105369567871, test_loss=0.9975972175598145, test_accuracy=0.6532548069953918\n",
            "step=6000, train_loss=0.7635286450386047, test_loss=0.8756888508796692, test_accuracy=0.703973650932312\n",
            "step=9000, train_loss=0.6385174989700317, test_loss=0.8496260643005371, test_accuracy=0.7106629610061646\n",
            "step=12000, train_loss=0.39533430337905884, test_loss=0.8771558403968811, test_accuracy=0.7148562073707581\n",
            "step=15000, train_loss=0.4956832826137543, test_loss=0.8762193322181702, test_accuracy=0.7193490266799927\n",
            "step=17999, train_loss=0.280958890914917, test_loss=0.9472941160202026, test_accuracy=0.7083666324615479\n"
          ]
        }
      ]
    },
    {
      "cell_type": "markdown",
      "source": [
        "## Tasks"
      ],
      "metadata": {
        "id": "86u4nZNptE0p"
      }
    },
    {
      "cell_type": "markdown",
      "source": [
        "Task 1: Follow the tutorial step-by-step - done."
      ],
      "metadata": {
        "id": "a4I0I9iru9Rg"
      }
    },
    {
      "cell_type": "markdown",
      "source": [
        "Task 2 (20 p): Repeat Task 1 using the tanh activation. Compare the\n",
        "performance of the tanh activation function with ReLU in the CNN. Additionally, discuss why tanh might yield better or worse results than ReLU.          \n",
        "Note: You may need to increase the number of epochs if the loss does not\n",
        "seem to converge.\n",
        "\n",
        "After 18000 steps (11.5 epochs) ReLU-activated model converges to ~70% acc, tanh achieves comparable results, ending at ~67%.\n",
        "\n",
        "Technically tanh would be expected to perform worse than ReLU, as its $[-1, 1]$-ranged values don't fit our $[0,1]$ pixel values well, resulting in worse gradient flow than with ReLU. Indeed, if we scale the pixel values to $[-1, 1]$, we get ~69%. Potetially surprisingly, when ReLU and data scaling are \"misaligned\", we get results on pair with best, i.e., ~70%.\n",
        "\n",
        "To sum up:\n",
        "* pixel values $[-1, 1]$ $+$ tanh $\\rightarrow$ ~69% accuracy\n",
        "* pixel values $[0, 1]$ $+$ ReLU $\\rightarrow$ ~70% accuracy\n",
        "* pixel values $[-1, 1]$ $+$ ReLU $\\rightarrow$ ~70% accuracy\n",
        "* pixel values $[0, 1]$ $+$ tanh $\\rightarrow$ ~67% accuracy\n",
        "\n",
        "The empirical results are kind of weird. Idk why yet."
      ],
      "metadata": {
        "id": "xZiQ4auMz04x"
      }
    },
    {
      "cell_type": "code",
      "source": [],
      "metadata": {
        "id": "QKb7aeeEsn5r"
      },
      "execution_count": 24,
      "outputs": []
    }
  ]
}